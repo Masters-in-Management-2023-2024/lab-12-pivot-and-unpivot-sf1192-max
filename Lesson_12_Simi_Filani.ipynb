{
  "nbformat": 4,
  "nbformat_minor": 0,
  "metadata": {
    "colab": {
      "provenance": []
    },
    "kernelspec": {
      "name": "python3",
      "display_name": "Python 3"
    },
    "language_info": {
      "name": "python"
    }
  },
  "cells": [
    {
      "cell_type": "code",
      "execution_count": 1,
      "metadata": {
        "id": "cs641GuxMk_n"
      },
      "outputs": [],
      "source": [
        "\n",
        "# Import required packages\n",
        "import polars as pl"
      ]
    },
    {
      "cell_type": "code",
      "source": [
        "# Load economics_long data\n",
        "economics_long = pl.read_csv(\"https://raw.githubusercontent.com/philhetzel/opan5510-class12/refs/heads/main/data/economics_long.csv\")\n",
        "\n",
        "# YOUR CODE HERE: Pivot the data so that each unique value in 'variable' becomes its own column\n",
        "# Hint: Use the pivot() function\n",
        "# The index should be 'date', columns should come from 'variable', and values from 'value'\n",
        "\n",
        "economics_wide = economics_long.pivot(index=\"date\", columns=\"variable\", values=\"value\")\n",
        "\n",
        "# Display the pivoted dataframe\n",
        "economics_wide"
      ],
      "metadata": {
        "colab": {
          "base_uri": "https://localhost:8080/",
          "height": 499
        },
        "id": "gzUDtNNrMtB3",
        "outputId": "2fb23e4e-acef-4dca-ae21-cb9c355074af"
      },
      "execution_count": 2,
      "outputs": [
        {
          "output_type": "stream",
          "name": "stderr",
          "text": [
            "/tmp/ipython-input-1702934283.py:8: DeprecationWarning: The argument `columns` for `DataFrame.pivot` is deprecated. It has been renamed to `on`.\n",
            "  economics_wide = economics_long.pivot(index=\"date\", columns=\"variable\", values=\"value\")\n"
          ]
        },
        {
          "output_type": "execute_result",
          "data": {
            "text/plain": [
              "shape: (574, 6)\n",
              "┌────────────┬─────────┬────────────┬─────────┬─────────┬──────────┐\n",
              "│ date       ┆ pce     ┆ pop        ┆ psavert ┆ uempmed ┆ unemploy │\n",
              "│ ---        ┆ ---     ┆ ---        ┆ ---     ┆ ---     ┆ ---      │\n",
              "│ str        ┆ f64     ┆ f64        ┆ f64     ┆ f64     ┆ f64      │\n",
              "╞════════════╪═════════╪════════════╪═════════╪═════════╪══════════╡\n",
              "│ 1967-07-01 ┆ 506.7   ┆ 198712.0   ┆ 12.6    ┆ 4.5     ┆ 2944.0   │\n",
              "│ 1967-08-01 ┆ 509.8   ┆ 198911.0   ┆ 12.6    ┆ 4.7     ┆ 2945.0   │\n",
              "│ 1967-09-01 ┆ 515.6   ┆ 199113.0   ┆ 11.9    ┆ 4.6     ┆ 2958.0   │\n",
              "│ 1967-10-01 ┆ 512.2   ┆ 199311.0   ┆ 12.9    ┆ 4.9     ┆ 3143.0   │\n",
              "│ 1967-11-01 ┆ 517.4   ┆ 199498.0   ┆ 12.8    ┆ 4.7     ┆ 3066.0   │\n",
              "│ …          ┆ …       ┆ …          ┆ …       ┆ …       ┆ …        │\n",
              "│ 2014-12-01 ┆ 12062.0 ┆ 319746.157 ┆ 7.6     ┆ 12.9    ┆ 8717.0   │\n",
              "│ 2015-01-01 ┆ 12046.0 ┆ 319928.646 ┆ 7.7     ┆ 13.2    ┆ 8903.0   │\n",
              "│ 2015-02-01 ┆ 12082.4 ┆ 320074.511 ┆ 7.9     ┆ 12.9    ┆ 8610.0   │\n",
              "│ 2015-03-01 ┆ 12158.3 ┆ 320230.786 ┆ 7.4     ┆ 12.0    ┆ 8504.0   │\n",
              "│ 2015-04-01 ┆ 12193.8 ┆ 320402.295 ┆ 7.6     ┆ 11.5    ┆ 8526.0   │\n",
              "└────────────┴─────────┴────────────┴─────────┴─────────┴──────────┘"
            ],
            "text/html": [
              "<div><style>\n",
              ".dataframe > thead > tr,\n",
              ".dataframe > tbody > tr {\n",
              "  text-align: right;\n",
              "  white-space: pre-wrap;\n",
              "}\n",
              "</style>\n",
              "<small>shape: (574, 6)</small><table border=\"1\" class=\"dataframe\"><thead><tr><th>date</th><th>pce</th><th>pop</th><th>psavert</th><th>uempmed</th><th>unemploy</th></tr><tr><td>str</td><td>f64</td><td>f64</td><td>f64</td><td>f64</td><td>f64</td></tr></thead><tbody><tr><td>&quot;1967-07-01&quot;</td><td>506.7</td><td>198712.0</td><td>12.6</td><td>4.5</td><td>2944.0</td></tr><tr><td>&quot;1967-08-01&quot;</td><td>509.8</td><td>198911.0</td><td>12.6</td><td>4.7</td><td>2945.0</td></tr><tr><td>&quot;1967-09-01&quot;</td><td>515.6</td><td>199113.0</td><td>11.9</td><td>4.6</td><td>2958.0</td></tr><tr><td>&quot;1967-10-01&quot;</td><td>512.2</td><td>199311.0</td><td>12.9</td><td>4.9</td><td>3143.0</td></tr><tr><td>&quot;1967-11-01&quot;</td><td>517.4</td><td>199498.0</td><td>12.8</td><td>4.7</td><td>3066.0</td></tr><tr><td>&hellip;</td><td>&hellip;</td><td>&hellip;</td><td>&hellip;</td><td>&hellip;</td><td>&hellip;</td></tr><tr><td>&quot;2014-12-01&quot;</td><td>12062.0</td><td>319746.157</td><td>7.6</td><td>12.9</td><td>8717.0</td></tr><tr><td>&quot;2015-01-01&quot;</td><td>12046.0</td><td>319928.646</td><td>7.7</td><td>13.2</td><td>8903.0</td></tr><tr><td>&quot;2015-02-01&quot;</td><td>12082.4</td><td>320074.511</td><td>7.9</td><td>12.9</td><td>8610.0</td></tr><tr><td>&quot;2015-03-01&quot;</td><td>12158.3</td><td>320230.786</td><td>7.4</td><td>12.0</td><td>8504.0</td></tr><tr><td>&quot;2015-04-01&quot;</td><td>12193.8</td><td>320402.295</td><td>7.6</td><td>11.5</td><td>8526.0</td></tr></tbody></table></div>"
            ]
          },
          "metadata": {},
          "execution_count": 2
        }
      ]
    },
    {
      "cell_type": "code",
      "source": [
        "# YOUR CODE HERE: Filter for dates >= '2010-01-01' and calculate median unemployment\n",
        "# Hint: You'll need to filter the dataframe and then calculate the median of the 'unemploy' column\n",
        "\n",
        "median_unemploy = economics_wide.filter(pl.col(\"date\") >= \"2010-01-01\")[\"unemploy\"].median()\n",
        "\n",
        "print(f\"The median unemployment for 2010-01-01 and beyond is: {median_unemploy}\")"
      ],
      "metadata": {
        "colab": {
          "base_uri": "https://localhost:8080/"
        },
        "id": "OOwJToP3M7ob",
        "outputId": "fd7694e2-ecb7-4ff8-ac84-016ea2c600ae"
      },
      "execution_count": 3,
      "outputs": [
        {
          "output_type": "stream",
          "name": "stdout",
          "text": [
            "The median unemployment for 2010-01-01 and beyond is: 12471.0\n"
          ]
        }
      ]
    },
    {
      "cell_type": "code",
      "source": [
        "# Load AirPassengers data\n",
        "# Note: You may need to specify separator if it's not comma-separated\n",
        "air_passengers = pl.read_csv(\"https://raw.githubusercontent.com/philhetzel/opan5510-class12/refs/heads/main/data/AirPassengers.txt\", separator=\"\\t\")  # Adjust separator if needed\n",
        "\n",
        "# Display the original data structure\n",
        "print(\"Original data shape:\", air_passengers.shape)\n",
        "print(\"\\nFirst few rows:\")\n",
        "print(air_passengers.head())\n",
        "\n",
        "# YOUR CODE HERE: Transform from wide to long format\n",
        "# Hint: Use unpivot() function to unpivot the data\n",
        "# You'll need to identify which columns represent months and unpivot them\n",
        "# Use 'index' for columns to keep and 'on' for columns to unpivot\n",
        "\n",
        "month_columns = air_passengers.columns[1:] # Assuming the first column is 'year'\n",
        "air_passengers_long = air_passengers.unpivot(index=\"year\", on=month_columns, variable_name=\"month\", value_name=\"passengers\")\n",
        "\n",
        "\n",
        "# Display the unpivoted dataframe\n",
        "air_passengers_long"
      ],
      "metadata": {
        "colab": {
          "base_uri": "https://localhost:8080/",
          "height": 715
        },
        "id": "DI3NK-LcNCSg",
        "outputId": "ce431481-fff4-4e62-ea97-8ad4e069382a"
      },
      "execution_count": 5,
      "outputs": [
        {
          "output_type": "stream",
          "name": "stdout",
          "text": [
            "Original data shape: (12, 13)\n",
            "\n",
            "First few rows:\n",
            "shape: (5, 13)\n",
            "┌──────┬─────┬─────┬─────┬───┬─────┬─────┬─────┬─────┐\n",
            "│ Year ┆ Jan ┆ Feb ┆ Mar ┆ … ┆ Sep ┆ Oct ┆ Nov ┆ Dec │\n",
            "│ ---  ┆ --- ┆ --- ┆ --- ┆   ┆ --- ┆ --- ┆ --- ┆ --- │\n",
            "│ i64  ┆ i64 ┆ i64 ┆ i64 ┆   ┆ i64 ┆ i64 ┆ i64 ┆ i64 │\n",
            "╞══════╪═════╪═════╪═════╪═══╪═════╪═════╪═════╪═════╡\n",
            "│ 1949 ┆ 112 ┆ 118 ┆ 132 ┆ … ┆ 136 ┆ 119 ┆ 104 ┆ 118 │\n",
            "│ 1950 ┆ 115 ┆ 126 ┆ 141 ┆ … ┆ 158 ┆ 133 ┆ 114 ┆ 140 │\n",
            "│ 1951 ┆ 145 ┆ 150 ┆ 178 ┆ … ┆ 184 ┆ 162 ┆ 146 ┆ 166 │\n",
            "│ 1952 ┆ 171 ┆ 180 ┆ 193 ┆ … ┆ 209 ┆ 191 ┆ 172 ┆ 194 │\n",
            "│ 1953 ┆ 196 ┆ 196 ┆ 236 ┆ … ┆ 237 ┆ 211 ┆ 180 ┆ 201 │\n",
            "└──────┴─────┴─────┴─────┴───┴─────┴─────┴─────┴─────┘\n"
          ]
        },
        {
          "output_type": "execute_result",
          "data": {
            "text/plain": [
              "shape: (144, 3)\n",
              "┌──────┬───────┬────────────┐\n",
              "│ Year ┆ month ┆ passengers │\n",
              "│ ---  ┆ ---   ┆ ---        │\n",
              "│ i64  ┆ str   ┆ i64        │\n",
              "╞══════╪═══════╪════════════╡\n",
              "│ 1949 ┆ Jan   ┆ 112        │\n",
              "│ 1950 ┆ Jan   ┆ 115        │\n",
              "│ 1951 ┆ Jan   ┆ 145        │\n",
              "│ 1952 ┆ Jan   ┆ 171        │\n",
              "│ 1953 ┆ Jan   ┆ 196        │\n",
              "│ …    ┆ …     ┆ …          │\n",
              "│ 1956 ┆ Dec   ┆ 306        │\n",
              "│ 1957 ┆ Dec   ┆ 336        │\n",
              "│ 1958 ┆ Dec   ┆ 337        │\n",
              "│ 1959 ┆ Dec   ┆ 405        │\n",
              "│ 1960 ┆ Dec   ┆ 432        │\n",
              "└──────┴───────┴────────────┘"
            ],
            "text/html": [
              "<div><style>\n",
              ".dataframe > thead > tr,\n",
              ".dataframe > tbody > tr {\n",
              "  text-align: right;\n",
              "  white-space: pre-wrap;\n",
              "}\n",
              "</style>\n",
              "<small>shape: (144, 3)</small><table border=\"1\" class=\"dataframe\"><thead><tr><th>Year</th><th>month</th><th>passengers</th></tr><tr><td>i64</td><td>str</td><td>i64</td></tr></thead><tbody><tr><td>1949</td><td>&quot;Jan&quot;</td><td>112</td></tr><tr><td>1950</td><td>&quot;Jan&quot;</td><td>115</td></tr><tr><td>1951</td><td>&quot;Jan&quot;</td><td>145</td></tr><tr><td>1952</td><td>&quot;Jan&quot;</td><td>171</td></tr><tr><td>1953</td><td>&quot;Jan&quot;</td><td>196</td></tr><tr><td>&hellip;</td><td>&hellip;</td><td>&hellip;</td></tr><tr><td>1956</td><td>&quot;Dec&quot;</td><td>306</td></tr><tr><td>1957</td><td>&quot;Dec&quot;</td><td>336</td></tr><tr><td>1958</td><td>&quot;Dec&quot;</td><td>337</td></tr><tr><td>1959</td><td>&quot;Dec&quot;</td><td>405</td></tr><tr><td>1960</td><td>&quot;Dec&quot;</td><td>432</td></tr></tbody></table></div>"
            ]
          },
          "metadata": {},
          "execution_count": 5
        }
      ]
    },
    {
      "cell_type": "code",
      "source": [
        "# YOUR CODE HERE: Filter for years 1955-1960 and calculate standard deviation\n",
        "# Hint: Filter the long format data for years between 1955 and 1960 (inclusive)\n",
        "# Then calculate the standard deviation of the passenger values\n",
        "\n",
        "std_passengers = air_passengers_long.filter((pl.col(\"Year\") >= 1955) & (pl.col(\"Year\") <= 1960))[\"passengers\"].std()\n",
        "\n",
        "print(f\"The standard deviation of airline passengers between 1955 and 1960 is: {std_passengers:.2f}\")"
      ],
      "metadata": {
        "colab": {
          "base_uri": "https://localhost:8080/"
        },
        "id": "jt6SKZkxNM0E",
        "outputId": "e15b91b3-d74b-4ea9-833f-8e4792436068"
      },
      "execution_count": 7,
      "outputs": [
        {
          "output_type": "stream",
          "name": "stdout",
          "text": [
            "The standard deviation of airline passengers between 1955 and 1960 is: 86.44\n"
          ]
        }
      ]
    },
    {
      "cell_type": "code",
      "source": [
        "# Load table2 data\n",
        "table2 = pl.read_csv(\"https://raw.githubusercontent.com/philhetzel/opan5510-class12/refs/heads/main/data/table2.csv\")\n",
        "\n",
        "# Display the original data structure\n",
        "print(\"Original data:\")\n",
        "print(table2)\n",
        "\n",
        "# YOUR CODE HERE: Pivot the data so 'cases' and 'population' are separate columns\n",
        "# Hint: Use pivot() where the values in 'type' column become new column names\n",
        "# and values come from the 'count' column\n",
        "\n",
        "table2_wide = table2.pivot(index=[\"country\", \"year\"], columns=\"type\", values=\"count\")\n",
        "\n",
        "# Display the pivoted dataframe\n",
        "table2_wide"
      ],
      "metadata": {
        "colab": {
          "base_uri": "https://localhost:8080/",
          "height": 688
        },
        "id": "SkY94JXWNW8M",
        "outputId": "029de3cb-9f8d-4301-e9c7-d06a48e3c037"
      },
      "execution_count": 8,
      "outputs": [
        {
          "output_type": "stream",
          "name": "stdout",
          "text": [
            "Original data:\n",
            "shape: (12, 5)\n",
            "┌──────────┬─────────────┬──────┬────────────┬────────────┐\n",
            "│ rownames ┆ country     ┆ year ┆ type       ┆ count      │\n",
            "│ ---      ┆ ---         ┆ ---  ┆ ---        ┆ ---        │\n",
            "│ i64      ┆ str         ┆ i64  ┆ str        ┆ i64        │\n",
            "╞══════════╪═════════════╪══════╪════════════╪════════════╡\n",
            "│ 1        ┆ Afghanistan ┆ 1999 ┆ cases      ┆ 745        │\n",
            "│ 2        ┆ Afghanistan ┆ 1999 ┆ population ┆ 19987071   │\n",
            "│ 3        ┆ Afghanistan ┆ 2000 ┆ cases      ┆ 2666       │\n",
            "│ 4        ┆ Afghanistan ┆ 2000 ┆ population ┆ 20595360   │\n",
            "│ 5        ┆ Brazil      ┆ 1999 ┆ cases      ┆ 37737      │\n",
            "│ …        ┆ …           ┆ …    ┆ …          ┆ …          │\n",
            "│ 8        ┆ Brazil      ┆ 2000 ┆ population ┆ 174504898  │\n",
            "│ 9        ┆ China       ┆ 1999 ┆ cases      ┆ 212258     │\n",
            "│ 10       ┆ China       ┆ 1999 ┆ population ┆ 1272915272 │\n",
            "│ 11       ┆ China       ┆ 2000 ┆ cases      ┆ 213766     │\n",
            "│ 12       ┆ China       ┆ 2000 ┆ population ┆ 1280428583 │\n",
            "└──────────┴─────────────┴──────┴────────────┴────────────┘\n"
          ]
        },
        {
          "output_type": "stream",
          "name": "stderr",
          "text": [
            "/tmp/ipython-input-3279689378.py:12: DeprecationWarning: The argument `columns` for `DataFrame.pivot` is deprecated. It has been renamed to `on`.\n",
            "  table2_wide = table2.pivot(index=[\"country\", \"year\"], columns=\"type\", values=\"count\")\n"
          ]
        },
        {
          "output_type": "execute_result",
          "data": {
            "text/plain": [
              "shape: (6, 4)\n",
              "┌─────────────┬──────┬────────┬────────────┐\n",
              "│ country     ┆ year ┆ cases  ┆ population │\n",
              "│ ---         ┆ ---  ┆ ---    ┆ ---        │\n",
              "│ str         ┆ i64  ┆ i64    ┆ i64        │\n",
              "╞═════════════╪══════╪════════╪════════════╡\n",
              "│ Afghanistan ┆ 1999 ┆ 745    ┆ 19987071   │\n",
              "│ Afghanistan ┆ 2000 ┆ 2666   ┆ 20595360   │\n",
              "│ Brazil      ┆ 1999 ┆ 37737  ┆ 172006362  │\n",
              "│ Brazil      ┆ 2000 ┆ 80488  ┆ 174504898  │\n",
              "│ China       ┆ 1999 ┆ 212258 ┆ 1272915272 │\n",
              "│ China       ┆ 2000 ┆ 213766 ┆ 1280428583 │\n",
              "└─────────────┴──────┴────────┴────────────┘"
            ],
            "text/html": [
              "<div><style>\n",
              ".dataframe > thead > tr,\n",
              ".dataframe > tbody > tr {\n",
              "  text-align: right;\n",
              "  white-space: pre-wrap;\n",
              "}\n",
              "</style>\n",
              "<small>shape: (6, 4)</small><table border=\"1\" class=\"dataframe\"><thead><tr><th>country</th><th>year</th><th>cases</th><th>population</th></tr><tr><td>str</td><td>i64</td><td>i64</td><td>i64</td></tr></thead><tbody><tr><td>&quot;Afghanistan&quot;</td><td>1999</td><td>745</td><td>19987071</td></tr><tr><td>&quot;Afghanistan&quot;</td><td>2000</td><td>2666</td><td>20595360</td></tr><tr><td>&quot;Brazil&quot;</td><td>1999</td><td>37737</td><td>172006362</td></tr><tr><td>&quot;Brazil&quot;</td><td>2000</td><td>80488</td><td>174504898</td></tr><tr><td>&quot;China&quot;</td><td>1999</td><td>212258</td><td>1272915272</td></tr><tr><td>&quot;China&quot;</td><td>2000</td><td>213766</td><td>1280428583</td></tr></tbody></table></div>"
            ]
          },
          "metadata": {},
          "execution_count": 8
        }
      ]
    },
    {
      "cell_type": "code",
      "source": [
        "# YOUR CODE HERE:\n",
        "# 1. Add a 'ratio' column that calculates cases/population\n",
        "# 2. Filter for year 1999\n",
        "# 3. Find the country with the highest ratio\n",
        "\n",
        "table2_with_ratio = table2_wide.with_columns((pl.col(\"cases\") / pl.col(\"population\")).alias(\"ratio\"))\n",
        "\n",
        "# Filter for 1999 and find highest ratio\n",
        "year_1999 = table2_with_ratio.filter(pl.col(\"year\") == 1999)\n",
        "\n",
        "# Find country with highest ratio\n",
        "highest_ratio_country = year_1999.sort(\"ratio\", descending=True).head(1)[\"country\"].item()\n",
        "\n",
        "print(\"Data for 1999 with ratios:\")\n",
        "print(year_1999)\n",
        "print(f\"\\nThe country with the highest cases/population ratio in 1999 is: {highest_ratio_country}\")"
      ],
      "metadata": {
        "colab": {
          "base_uri": "https://localhost:8080/"
        },
        "id": "4oCW7iC2Nirh",
        "outputId": "89e0830a-f188-4f37-8321-7e67f528051e"
      },
      "execution_count": 9,
      "outputs": [
        {
          "output_type": "stream",
          "name": "stdout",
          "text": [
            "Data for 1999 with ratios:\n",
            "shape: (3, 5)\n",
            "┌─────────────┬──────┬────────┬────────────┬──────────┐\n",
            "│ country     ┆ year ┆ cases  ┆ population ┆ ratio    │\n",
            "│ ---         ┆ ---  ┆ ---    ┆ ---        ┆ ---      │\n",
            "│ str         ┆ i64  ┆ i64    ┆ i64        ┆ f64      │\n",
            "╞═════════════╪══════╪════════╪════════════╪══════════╡\n",
            "│ Afghanistan ┆ 1999 ┆ 745    ┆ 19987071   ┆ 0.000037 │\n",
            "│ Brazil      ┆ 1999 ┆ 37737  ┆ 172006362  ┆ 0.000219 │\n",
            "│ China       ┆ 1999 ┆ 212258 ┆ 1272915272 ┆ 0.000167 │\n",
            "└─────────────┴──────┴────────┴────────────┴──────────┘\n",
            "\n",
            "The country with the highest cases/population ratio in 1999 is: Brazil\n"
          ]
        }
      ]
    }
  ]
}